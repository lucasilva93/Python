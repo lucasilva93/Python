{
 "cells": [
  {
   "cell_type": "code",
   "execution_count": 1,
   "id": "37799cae-c97b-420e-86fd-45f6c5ed333a",
   "metadata": {},
   "outputs": [
    {
     "name": "stdout",
     "output_type": "stream",
     "text": [
      "<class 'numpy.ndarray'>\n",
      "[-10  -8  -6  -4  -2   0   2   4   6   8]\n",
      "[  0.  25.  50.  75. 100.]\n",
      "0\n",
      "5\n",
      "[[1 2]\n",
      " [3 4]\n",
      " [5 6]]\n",
      "[[10 11 12 13]\n",
      " [20 21 22 23]\n",
      " [30 31 32 33]]\n",
      "11\n",
      "[[11 12 13]\n",
      " [21 22 23]\n",
      " [31 32 33]]\n",
      "12\n",
      "[[16 17 18 19]\n",
      " [26 27 28 29]\n",
      " [36 37 38 39]]\n"
     ]
    }
   ],
   "source": [
    "\n",
    "import numpy as np\n",
    "mia_lista = np.array([1,2,3,4,5,6])\n",
    "print(type(mia_lista))\n",
    "\n",
    "print(np.arange(-10,10,2))\n",
    "print(np.linspace(0,100,5))\n",
    "print(mia_lista.argmin())\n",
    "print(mia_lista.argmax())\n",
    "print(mia_lista.reshape(3,2))\n",
    "\n",
    "matrice = np.array([[10,11,12,13],[20,21,22,23],[30,31,32,33]])\n",
    "print(matrice)\n",
    "print(matrice[0][1])\n",
    "print(matrice[:,1:])\n",
    "print(matrice.size)\n",
    "print(matrice + 6)"
   ]
  },
  {
   "cell_type": "code",
   "execution_count": 2,
   "id": "df1cc8be-c267-4834-a94d-913e64070f55",
   "metadata": {},
   "outputs": [
    {
     "name": "stdout",
     "output_type": "stream",
     "text": [
      "[366, 175, 420, 669, 343, 477, 227, 694, 108, 701, 148, 173, 914, 311, 437, 247, 560, 354, 659, 94, 124, 559, 493, 498, 517, 976, 658, 344, 882, 246, 579, 543, 522, 324, 428, 690, 300, 494, 561, 836, 207, 737, 171, 849, 963, 386, 200, 382, 956, 558, 146, 639, 927, 900, 674, 600, 289, 247, 380, 301, 907, 705, 119, 540, 511, 638, 241, 709, 506, 559, 645, 724, 691, 508, 964, 527, 436, 912, 593, 756, 345, 282, 32, 739, 552, 167, 983, 186, 638, 141, 971, 126, 175, 797, 817, 808, 413, 396, 721, 282]\n"
     ]
    }
   ],
   "source": [
    "from random import randint as rnd\n",
    "li = [rnd(0, 1000) for a in range(0,100)]\n",
    "print(li)"
   ]
  },
  {
   "cell_type": "code",
   "execution_count": 3,
   "id": "8e623e85-75bf-4901-b0cf-033d5e1f57ce",
   "metadata": {},
   "outputs": [
    {
     "name": "stdout",
     "output_type": "stream",
     "text": [
      "[891, 957, 275, 835, 631, 93, 299, 865, 287, 191, 541, 657, 697, 243, 233, 535, 669, 379, 77, 325, 319, 633, 331, 17, 279, 637, 417, 147, 415, 691, 375, 535, 227, 925, 71, 837, 341, 965, 393, 25, 415, 939, 775, 549, 293, 745, 359, 107, 31, 641, 599, 71, 337]\n"
     ]
    }
   ],
   "source": [
    "from random import randint as rando\n",
    "li = [rando(0, 1000) for a in range(0,100)]\n",
    "print([b for b in li if b % 2 != 0 ])"
   ]
  },
  {
   "cell_type": "code",
   "execution_count": 7,
   "id": "dd3de0e7-1549-429d-b782-06e97eb29fbb",
   "metadata": {},
   "outputs": [
    {
     "name": "stdout",
     "output_type": "stream",
     "text": [
      "[4, 16, 36, 49, 144, 225, 324, 576, 1089, 1936, 3249, 4096, 6241, 6724, 8649, 11449]\n",
      "[4, 8, 12, 14, 24, 30, 36, 48, 66, 88, 114, 128, 158, 164, 186, 214]\n",
      "['Pari', 'Pari', 'Pari', 'Dispari', 'Pari', 'Dispari', 'Pari', 'Pari', 'Dispari', 'Pari', 'Dispari', 'Pari', 'Dispari', 'Pari', 'Dispari', 'Dispari']\n",
      "[7, 15, 33, 57, 79, 93, 107]\n"
     ]
    }
   ],
   "source": [
    "ln = [2,4,6,7,12,15,18,24,33,44,57,64,79,82,93,107]\n",
    "l2 = []\n",
    "\n",
    "for a in ln:\n",
    "    l2.append(a**2)\n",
    "print(l2)    \n",
    "l3 = [a*2 for a in ln ]\n",
    "print(l3)\n",
    "l4 = [\"Pari\" if a % 2 == 0 else \"Dispari\" for a in ln]\n",
    "#if nella stessa riga di lista; parte dichiarativa del Python\n",
    "print(l4)\n",
    "l5 = [a for a in ln if a % 2!= 0]\n",
    "#filtraggio\n",
    "print(l5)"
   ]
  },
  {
   "cell_type": "code",
   "execution_count": 15,
   "id": "f4ff77c1-fd76-47cc-bad8-bfc06b865533",
   "metadata": {},
   "outputs": [
    {
     "name": "stdout",
     "output_type": "stream",
     "text": [
      "[[10 11 12 13]\n",
      " [20 21 22 23]\n",
      " [30 31 32 33]]\n",
      "11\n",
      "[[11 12 13]\n",
      " [21 22 23]\n",
      " [31 32 33]]\n",
      "12\n",
      "[[16 17 18 19]\n",
      " [26 27 28 29]\n",
      " [36 37 38 39]]\n",
      "[ 1  2  3  4  5  6  1  2  3  5 33 40 50 75]\n",
      "[[ 1]\n",
      " [ 2]\n",
      " [ 3]\n",
      " [ 5]\n",
      " [33]\n",
      " [40]\n",
      " [50]\n",
      " [75]]\n",
      "[ 1  2  3  5 33 40 50 75]\n",
      "[array([1, 2, 3, 4, 5, 6]), array([1, 2, 3, 5]), array([33, 40, 50, 75])]\n"
     ]
    }
   ],
   "source": [
    "matrice = np.array([[10,11,12,13],[20,21,22,23],[30,31,32,33]])\n",
    "print(matrice)\n",
    "print(matrice[0][1])\n",
    "print(matrice[:,1:])\n",
    "print(matrice.size)\n",
    "print(matrice + 6)\n",
    "nn = [1, 2, 3, 5, 33, 40, 50, 75]\n",
    "c = np.concatenate([mia_lista, nn])\n",
    "print(c)\n",
    "print(np.vstack(nn))\n",
    "print(np.hstack(nn))\n",
    "print(np.split(c, [6,10]))"
   ]
  },
  {
   "cell_type": "code",
   "execution_count": 18,
   "id": "20f1c477-7056-4585-9d2a-49e4b9db12de",
   "metadata": {},
   "outputs": [
    {
     "name": "stdout",
     "output_type": "stream",
     "text": [
      "[[ 0  1  2  3]\n",
      " [ 5  6  7  8]\n",
      " [10 11 12 13]]\n",
      "11\n"
     ]
    }
   ],
   "source": [
    "# mat è una matrice di 3 righe e 4 colonna\n",
    "mat = np.array([[0, 1, 2, 3, 4], [5, 6, 7, 8, 9], [10, 11, 12, 13, 14]]) \n",
    "#per accedere a singoli elementi, posso per esempio\n",
    "print(mat[:,:4])\n",
    "print(mat[2][1])"
   ]
  },
  {
   "cell_type": "code",
   "execution_count": 19,
   "id": "a4506681-7c93-4bcf-afd7-3c4f8c6361af",
   "metadata": {},
   "outputs": [
    {
     "name": "stdout",
     "output_type": "stream",
     "text": [
      "[ 0  1  2  3  4  5  6  7  8  9 10 11 12 13 14 15 16 17 18 19 20 21 22 23\n",
      " 24 25 26]\n"
     ]
    }
   ],
   "source": [
    "linear_data = np.array([x for x in range(27)])\n",
    "reshaped_data = linear_data.reshape((3, 3, 3))\n",
    "print(linear_data)"
   ]
  },
  {
   "cell_type": "code",
   "execution_count": 21,
   "id": "53f85f63-be11-44f4-b0ab-ba9e6ff300a8",
   "metadata": {},
   "outputs": [
    {
     "name": "stdout",
     "output_type": "stream",
     "text": [
      "[[[ 0  1  2]\n",
      "  [ 3  4  5]\n",
      "  [ 6  7  8]]\n",
      "\n",
      " [[ 9 10 11]\n",
      "  [12 13 14]\n",
      "  [15 16 17]]\n",
      "\n",
      " [[18 19 20]\n",
      "  [21 22 23]\n",
      "  [24 25 26]]]\n"
     ]
    }
   ],
   "source": [
    "linear_data = np.array([x for x in range(27)])\n",
    "reshaped_data = linear_data.reshape((3, 3, 3))\n",
    "print(reshaped_data)\n",
    "#ora ho una matrice di tre dimensioni contente 9 arrays con 3 numeri ciascuno (da 0 a 26)"
   ]
  },
  {
   "cell_type": "code",
   "execution_count": 53,
   "id": "0f2aced0-47d8-4cb7-aaa7-f98e131c1c52",
   "metadata": {},
   "outputs": [
    {
     "name": "stdout",
     "output_type": "stream",
     "text": [
      "[ 0.    2.05  4.1   6.15  8.2  10.25 12.3  14.35 16.4  18.45 20.5  22.55\n",
      " 24.6  26.65 28.7 ]\n"
     ]
    }
   ],
   "source": [
    "import numpy as np\n",
    "rivetti = np.array([1,2,3,4,5,6,7,8,9,10,11,12,13,14,15])\n",
    "lunghezza = 28.75\n",
    "buchi = lunghezza/14\n",
    "arrot = np.round(buchi,2)\n",
    "print(np.arange(0,lunghezza,arrot))"
   ]
  },
  {
   "cell_type": "code",
   "execution_count": 38,
   "id": "2d65f4a7-afbb-4018-ae43-8f2c3e084a66",
   "metadata": {},
   "outputs": [
    {
     "name": "stdout",
     "output_type": "stream",
     "text": [
      "[[ 1  1  1  1]\n",
      " [ 5  1  1  1]\n",
      " [20 -4  0 42]]\n"
     ]
    }
   ],
   "source": [
    "import numpy as nd\n",
    "rows, cols = 3,4\n",
    "matrix = nd.zeros((rows, cols), dtype = int)\n",
    "\n",
    "matrix[0, 0] = 1\n",
    "matrix[0, 1] = 1\n",
    "matrix[0, 2] = 1\n",
    "matrix[0, 3] = 1\n",
    "matrix[1, 0] = 5\n",
    "matrix[1, 1] = 1\n",
    "matrix[1, 2] = 1\n",
    "matrix[1, 3] = 1\n",
    "matrix[2, 0] = 20\n",
    "matrix[2, 1] = -4\n",
    "matrix[2, 2] = 0\n",
    "matrix[2, 3] = 42\n",
    "\n",
    "print(matrix)"
   ]
  },
  {
   "cell_type": "code",
   "execution_count": 40,
   "id": "5796b10f-d831-4f7c-8c93-caab852e5015",
   "metadata": {},
   "outputs": [
    {
     "name": "stdout",
     "output_type": "stream",
     "text": [
      "[[10 22 21  8  9]\n",
      " [ 9 42  3 18 11]\n",
      " [ 5  4 30 12 29]\n",
      " [37 31  7  2 26]\n",
      " [ 8  6  4 33 15]]\n"
     ]
    }
   ],
   "source": [
    "import numpy as np\n",
    "tabella = np.array([[10,22,21,8,9],[9,42,3,18,11],[5,4,30,12,29],[37,31,7,2,26],[8,6,4,33,15]])\n",
    "print(tabella)"
   ]
  },
  {
   "cell_type": "code",
   "execution_count": 51,
   "id": "60ba45e0-1533-4737-acb8-2738758980e1",
   "metadata": {},
   "outputs": [
    {
     "name": "stdout",
     "output_type": "stream",
     "text": [
      "2\n",
      "42\n",
      "[[ 8 20 19  6  7]\n",
      " [ 7 40  1 16  9]\n",
      " [ 3  2 28 10 27]\n",
      " [35 29  5  0 24]\n",
      " [ 6  4  2 31 13]]\n",
      "[[-1.81  -1.524 -1.548 -1.857 -1.833]\n",
      " [-1.833 -1.048 -1.976 -1.619 -1.786]\n",
      " [-1.929 -1.952 -1.333 -1.762 -1.357]\n",
      " [-1.167 -1.31  -1.881 -2.    -1.429]\n",
      " [-1.857 -1.905 -1.952 -1.262 -1.69 ]]\n"
     ]
    }
   ],
   "source": [
    "import numpy as np\n",
    "tabella = np.array([[10,22,21,8,9],[9,42,3,18,11],[5,4,30,12,29],[37,31,7,2,26],[8,6,4,33,15]])\n",
    "min = tabella.min()\n",
    "max = tabella.max()\n",
    "print(min)\n",
    "print(max)\n",
    "tabella1 = tabella - min\n",
    "tabella2 = ((tabella1/max) - min)\n",
    "tabella3 = np.round(tabella2, 3)\n",
    "print(tabella1)\n",
    "print(tabella3)"
   ]
  },
  {
   "cell_type": "code",
   "execution_count": null,
   "id": "cbf26b79-1138-47aa-a79a-415c1029bf73",
   "metadata": {},
   "outputs": [],
   "source": []
  }
 ],
 "metadata": {
  "kernelspec": {
   "display_name": "Python 3 (ipykernel)",
   "language": "python",
   "name": "python3"
  },
  "language_info": {
   "codemirror_mode": {
    "name": "ipython",
    "version": 3
   },
   "file_extension": ".py",
   "mimetype": "text/x-python",
   "name": "python",
   "nbconvert_exporter": "python",
   "pygments_lexer": "ipython3",
   "version": "3.12.1"
  }
 },
 "nbformat": 4,
 "nbformat_minor": 5
}
