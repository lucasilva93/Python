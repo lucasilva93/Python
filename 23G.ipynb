{
 "cells": [
  {
   "cell_type": "code",
   "execution_count": 10,
   "id": "5fa3514b-4801-4448-934c-73209cfb926f",
   "metadata": {},
   "outputs": [
    {
     "name": "stdout",
     "output_type": "stream",
     "text": [
      "Hello World\n"
     ]
    }
   ],
   "source": [
    "%run script_esempio.py"
   ]
  },
  {
   "cell_type": "code",
   "execution_count": 12,
   "id": "265b4aaf-3fae-49cf-8910-5d0e13d3e02f",
   "metadata": {},
   "outputs": [
    {
     "name": "stdout",
     "output_type": "stream",
     "text": [
      "Overwriting output.txt\n"
     ]
    }
   ],
   "source": [
    "%%writefile output.txt\n",
    "Questo è un esempio di scrittura file usando magic command"
   ]
  },
  {
   "cell_type": "code",
   "execution_count": 16,
   "id": "173462e1-8017-4795-9c09-01a5b2006b25",
   "metadata": {},
   "outputs": [
    {
     "name": "stdout",
     "output_type": "stream",
     "text": [
      "Questo è un esempio di scrittura file usando magic command\n",
      "\n"
     ]
    }
   ],
   "source": [
    "with open(\"output.txt\", \"r\") as scrittura:\n",
    "    contenuto = scrittura.read()\n",
    "    print(contenuto)\n",
    "    "
   ]
  },
  {
   "cell_type": "code",
   "execution_count": 25,
   "id": "be106f99-7c8c-4526-b0a3-f9ab564b6301",
   "metadata": {},
   "outputs": [
    {
     "name": "stdout",
     "output_type": "stream",
     "text": [
      "[Errno 2] No such file or directory: '/Users/francosilva/Documenti'\n",
      "/Users/francosilva/Documents\n"
     ]
    }
   ],
   "source": [
    "%cd /Users/francosilva/Documenti "
   ]
  },
  {
   "cell_type": "code",
   "execution_count": 26,
   "id": "79828efd-7c59-4216-8bc3-31ab224eedb8",
   "metadata": {},
   "outputs": [
    {
     "name": "stdout",
     "output_type": "stream",
     "text": [
      "/Users/francosilva/Documents\n"
     ]
    }
   ],
   "source": [
    "%cd /Users/francosilva/Documents "
   ]
  },
  {
   "cell_type": "code",
   "execution_count": 40,
   "id": "b282c185-3b06-4bcc-bfeb-c707ea727fc7",
   "metadata": {},
   "outputs": [
    {
     "name": "stdout",
     "output_type": "stream",
     "text": [
      "25\n",
      "75.9 ns ± 0.335 ns per loop (mean ± std. dev. of 7 runs, 10,000,000 loops each)\n"
     ]
    }
   ],
   "source": [
    "def calcola_quadrato(valore):\n",
    "    calcoli = valore ** 2\n",
    "    return calcoli\n",
    "\n",
    "print(calcola_quadrato(5))\n",
    "%timeit calcola_quadrato(5)"
   ]
  },
  {
   "cell_type": "code",
   "execution_count": 28,
   "id": "6ed04278-ebaf-41ac-a1eb-beb506f097da",
   "metadata": {},
   "outputs": [
    {
     "name": "stdout",
     "output_type": "stream",
     "text": [
      "\u001b[34mAeronautica\u001b[m\u001b[m/                 \u001b[34mZoom\u001b[m\u001b[m/\n",
      "AlgoBuild085.jar             fcom-b737-ng-rev-35 (1).pdf\n",
      "\u001b[34mIFOA\u001b[m\u001b[m/                        \u001b[34mssd\u001b[m\u001b[m/\n",
      "QRH 737.pdf                  txt Modello.txt\n",
      "Schede Logiche.pdf\n"
     ]
    }
   ],
   "source": [
    "%ls\n"
   ]
  },
  {
   "cell_type": "code",
   "execution_count": 29,
   "id": "f0725d67-16b4-44c7-831c-8cb12a9ae1dc",
   "metadata": {},
   "outputs": [
    {
     "name": "stdout",
     "output_type": "stream",
     "text": [
      "/Users/francosilva/Documents/IFOA\n"
     ]
    }
   ],
   "source": [
    "%cd /Users/francosilva/Documents/IFOA"
   ]
  },
  {
   "cell_type": "markdown",
   "id": "3edfb1df-580c-418c-8edf-5dc664c33e2e",
   "metadata": {},
   "source": [
    "*Buonasera*"
   ]
  },
  {
   "cell_type": "markdown",
   "id": "2443b6af-8bd2-4520-b631-88a994664cde",
   "metadata": {},
   "source": [
    "$$ Y = \\frac{9}{3} $$"
   ]
  },
  {
   "cell_type": "code",
   "execution_count": 43,
   "id": "0cf7aaad-cacf-4ae8-aaa9-4545868b752a",
   "metadata": {},
   "outputs": [
    {
     "name": "stdout",
     "output_type": "stream",
     "text": [
      "625.0\n",
      "75.7 ns ± 2.35 ns per loop (mean ± std. dev. of 7 runs, 10,000,000 loops each)\n"
     ]
    }
   ],
   "source": [
    "def csa(nem):\n",
    "    return nem/5\n",
    "\n",
    "print(csa(3125))\n",
    "%timeit csa(3125)"
   ]
  },
  {
   "cell_type": "code",
   "execution_count": 49,
   "id": "9baa9ed6-07de-4aa8-b387-c77902f79b40",
   "metadata": {},
   "outputs": [
    {
     "name": "stdout",
     "output_type": "stream",
     "text": [
      "Writing sentire\n"
     ]
    }
   ],
   "source": [
    "%%writefile sentire\n",
    "Rumore"
   ]
  },
  {
   "cell_type": "code",
   "execution_count": 50,
   "id": "1f16272b-aa6e-4cb9-9030-6e86efde5834",
   "metadata": {},
   "outputs": [
    {
     "name": "stdout",
     "output_type": "stream",
     "text": [
      "Rumore\n",
      "\n"
     ]
    }
   ],
   "source": [
    "with open(\"sentire\", \"r\") as rumore:\n",
    "    wf = rumore.read()\n",
    "    print(wf)\n",
    "    "
   ]
  },
  {
   "cell_type": "code",
   "execution_count": null,
   "id": "aba87d8e-3db9-4092-8748-1ca6d7506124",
   "metadata": {},
   "outputs": [],
   "source": []
  }
 ],
 "metadata": {
  "kernelspec": {
   "display_name": "Python 3 (ipykernel)",
   "language": "python",
   "name": "python3"
  },
  "language_info": {
   "codemirror_mode": {
    "name": "ipython",
    "version": 3
   },
   "file_extension": ".py",
   "mimetype": "text/x-python",
   "name": "python",
   "nbconvert_exporter": "python",
   "pygments_lexer": "ipython3",
   "version": "3.12.1"
  }
 },
 "nbformat": 4,
 "nbformat_minor": 5
}
